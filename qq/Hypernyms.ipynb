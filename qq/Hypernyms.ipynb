{
 "cells": [
  {
   "cell_type": "markdown",
   "metadata": {
    "ExecuteTime": {
     "end_time": "2020-02-12T17:56:22.948195Z",
     "start_time": "2020-02-12T17:56:22.944176Z"
    }
   },
   "source": [
    "### Lab 2: Hyponyms and Hypernyms"
   ]
  },
  {
   "cell_type": "code",
   "execution_count": 3,
   "metadata": {
    "ExecuteTime": {
     "end_time": "2020-02-12T14:12:16.470920Z",
     "start_time": "2020-02-12T14:12:15.640262Z"
    }
   },
   "outputs": [
    {
     "name": "stdout",
     "output_type": "stream",
     "text": [
      "12\n"
     ]
    }
   ],
   "source": [
    "import pandas as pd\n",
    "import wikipedia\n",
    "import os\n",
    "from tqdm import tqdm\n",
    "from joblib import Parallel, delayed\n",
    "import multiprocessing\n",
    "import networkx as nx\n",
    "import matplotlib.pyplot as plt\n",
    "from collections import defaultdict\n",
    "from ipywidgets import interact, interactive, fixed, interact_manual,widgets\n",
    "from IPython.display import display\n",
    "import json\n",
    "num_cores = multiprocessing.cpu_count()\n",
    "print(num_cores)\n",
    "wikipedia.set_lang(\"ru\")\n",
    "# DATA_PATH_LIST = ['D:','src2','taxonomy-enrichment','data','training_data']\n",
    "DATA_PATH_LIST = ['.']\n",
    "EMBEDDING_MODEL_FILENAME = \"wiki_node2vec.bin\"\n",
    "DATA_PATH=\"/\".join(DATA_PATH_LIST+[\"training_nouns.tsv\"])\n",
    "df = pd.read_csv(DATA_PATH,sep='\\t')\n",
    "%matplotlib inline"
   ]
  },
  {
   "cell_type": "code",
   "execution_count": 4,
   "metadata": {
    "ExecuteTime": {
     "end_time": "2020-02-12T14:12:16.475780Z",
     "start_time": "2020-02-12T14:12:16.473114Z"
    }
   },
   "outputs": [],
   "source": [
    "def prestr(x):\n",
    "    return str(x).replace('\\\"','').replace(\"'\",'\"')"
   ]
  },
  {
   "cell_type": "code",
   "execution_count": 5,
   "metadata": {
    "ExecuteTime": {
     "end_time": "2020-02-12T14:12:16.685506Z",
     "start_time": "2020-02-12T14:12:16.477634Z"
    }
   },
   "outputs": [],
   "source": [
    "class DefDict(defaultdict):\n",
    "    def __missing__(self, key):\n",
    "        self[key] = key\n",
    "        return key\n",
    "    \n",
    "idx2syns = DefDict(lambda x:x)\n",
    "for val in df.values:\n",
    "    idx2syns[val[0]]=val[1]\n",
    "    try:\n",
    "        pidxs = json.loads(prestr(val[2]))\n",
    "        concp = [el.split(\",\")[0] for el in json.loads(prestr(val[3]))]\n",
    "        idx2syns.update(dict(zip(pidxs,concp)))\n",
    "    except:\n",
    "        print(prestr(val[2]))\n",
    "        print(prestr(val[3]))"
   ]
  },
  {
   "cell_type": "markdown",
   "metadata": {
    "ExecuteTime": {
     "end_time": "2020-02-12T17:12:34.060220Z",
     "start_time": "2020-02-12T17:12:34.055235Z"
    }
   },
   "source": [
    "### Interactive visualization of hyponyms and hypernyms"
   ]
  },
  {
   "cell_type": "code",
   "execution_count": 6,
   "metadata": {
    "ExecuteTime": {
     "end_time": "2020-02-12T17:11:37.966489Z",
     "start_time": "2020-02-12T17:11:37.931688Z"
    }
   },
   "outputs": [
    {
     "data": {
      "application/vnd.jupyter.widget-view+json": {
       "model_id": "2b0645af433d4693bdbd5c0d9a4e2c4f",
       "version_major": 2,
       "version_minor": 0
      },
      "text/plain": [
       "Button(description='Draw', style=ButtonStyle())"
      ]
     },
     "metadata": {},
     "output_type": "display_data"
    },
    {
     "data": {
      "application/vnd.jupyter.widget-view+json": {
       "model_id": "91d30f182ce04a8ba6493336e5ce72b8",
       "version_major": 2,
       "version_minor": 0
      },
      "text/plain": [
       "Text(value='МАТЬ', description='String:', placeholder='Query')"
      ]
     },
     "metadata": {},
     "output_type": "display_data"
    }
   ],
   "source": [
    "button = widgets.Button(description=\"Draw\")\n",
    "query = widgets.Text(\n",
    "    value='МАТЬ',\n",
    "    placeholder='Query',\n",
    "    description='String:',\n",
    "    disabled=False\n",
    ")\n",
    "display(button,query)\n",
    "\n",
    "\n",
    "\n",
    "\n",
    "def creategraph(df):\n",
    "    res = []\n",
    "    for row in df.values:\n",
    "        cohyps = row[1].split(\",\")\n",
    "        for idx,cohyp in enumerate(cohyps):\n",
    "            for parent in json.loads(prestr(row[2])):\n",
    "                res.append((row[0]+'-'+str(idx),parent))\n",
    "    return res\n",
    "\n",
    "def graphdraw(b):\n",
    "    print(\"graphdraw\",query.value)\n",
    "    subset = df[df['TEXT'].str.contains(query.value.upper())]\n",
    "    g = nx.DiGraph()\n",
    "    for el in subset.values:\n",
    "        cohyps = el[1].split(\",\")\n",
    "        print(cohyps)\n",
    "        syns = idx2syns[el[0]]\n",
    "        for child in cohyps:\n",
    "            for parent in json.loads(prestr(el[2])):\n",
    "                ed = g.add_edge(child,idx2syns[parent],label=\"is a\")\n",
    "            \n",
    "    plt.figure(figsize=(15,15))\n",
    "    pos = nx.nx_agraph.graphviz_layout(g)\n",
    "    nx.draw(g,with_labels=True,pos=pos)\n",
    "#     edge_labels=nx.draw_networkx_edge_labels(g,pos=pos)\n",
    "    plt.show()\n",
    "button.on_click(graphdraw)"
   ]
  },
  {
   "cell_type": "markdown",
   "metadata": {
    "ExecuteTime": {
     "end_time": "2020-02-12T11:38:20.619158Z",
     "start_time": "2020-02-12T11:38:20.614734Z"
    }
   },
   "source": [
    "### Pattern extractor\n",
    "\n",
    "Yargy — библиотека для извлечения структурированной информации из текстов на русском языке. Правила описываются контекстно-свободными грамматиками и словарями ключевых слов. Банк готовых правил для имён, дат, адресов и других сущностей доступен в репозитории Natasha.\n",
    "* https://yargy.readthedocs.io/ru/latest/\n",
    "* http://pymorphy2.readthedocs.io/en/latest/user/grammemes.html\n",
    "* https://github.com/natasha/natasha"
   ]
  },
  {
   "cell_type": "markdown",
   "metadata": {
    "ExecuteTime": {
     "start_time": "2020-02-12T13:09:50.486Z"
    }
   },
   "source": [
    "### Токенизатор"
   ]
  },
  {
   "cell_type": "code",
   "execution_count": 7,
   "metadata": {
    "ExecuteTime": {
     "end_time": "2020-02-12T14:12:16.819980Z",
     "start_time": "2020-02-12T14:12:16.708109Z"
    }
   },
   "outputs": [
    {
     "name": "stdout",
     "output_type": "stream",
     "text": [
      "['Ростов', '-', 'на', '-', 'Дону']\n",
      "['Длительностью', '18', 'ч', '.', '10', 'мин', '.']\n",
      "['Яндекс', '.', 'Такси']\n",
      "['π', '≈', '3', '.', '1415']\n",
      "['1', '500', '000', '$']\n",
      "['http', ':', '/', '/', 'vk', '.', 'com']\n"
     ]
    }
   ],
   "source": [
    "from yargy.tokenizer import MorphTokenizer\n",
    "\n",
    "\n",
    "tokenizer = MorphTokenizer()\n",
    "text = '''Ростов-на-Дону\n",
    "Длительностью 18ч. 10мин.\n",
    "Яндекс.Такси\n",
    "π ≈ 3.1415\n",
    "1 500 000$\n",
    "http://vk.com\n",
    "'''\n",
    "for line in text.splitlines():\n",
    "    print([_.value for _ in tokenizer(line)])"
   ]
  },
  {
   "cell_type": "markdown",
   "metadata": {
    "ExecuteTime": {
     "end_time": "2020-02-12T13:11:56.582467Z",
     "start_time": "2020-02-12T13:11:56.566175Z"
    }
   },
   "source": [
    "# Газеттир\n",
    "Газеттир нужен для удобной работы с последовательностью слов. Например, можно написать:"
   ]
  },
  {
   "cell_type": "code",
   "execution_count": 8,
   "metadata": {
    "ExecuteTime": {
     "end_time": "2020-02-12T14:12:16.844412Z",
     "start_time": "2020-02-12T14:12:16.821582Z"
    }
   },
   "outputs": [],
   "source": [
    "from yargy import or_, rule\n",
    "from yargy.predicates import normalized\n",
    "\n",
    "RULE = or_(\n",
    "    rule(normalized('dvd'), '-', normalized('диск')),\n",
    "    rule(normalized('видео'), normalized('файл'))\n",
    ")"
   ]
  },
  {
   "cell_type": "code",
   "execution_count": 9,
   "metadata": {
    "ExecuteTime": {
     "end_time": "2020-02-12T14:12:16.968622Z",
     "start_time": "2020-02-12T14:12:16.846737Z"
    }
   },
   "outputs": [
    {
     "name": "stdout",
     "output_type": "stream",
     "text": [
      "['Видео', 'файл']\n",
      "['dvd', '-', 'диске']\n"
     ]
    }
   ],
   "source": [
    "from yargy import Parser\n",
    "from yargy.pipelines import morph_pipeline\n",
    "\n",
    "\n",
    "RULE = morph_pipeline([\n",
    "    'dvd-диск',\n",
    "    'видео файл',\n",
    "    'видеофильм',\n",
    "    'газета',\n",
    "    'электронный дневник',\n",
    "    'эссе',\n",
    "])\n",
    "\n",
    "parser = Parser(RULE)\n",
    "text = 'Видео файл на dvd-диске'\n",
    "for match in parser.findall(text):\n",
    "    print([_.value for _ in match.tokens])"
   ]
  },
  {
   "cell_type": "code",
   "execution_count": 10,
   "metadata": {
    "ExecuteTime": {
     "end_time": "2020-02-12T14:12:54.576104Z",
     "start_time": "2020-02-12T14:12:54.511149Z"
    }
   },
   "outputs": [
    {
     "name": "stdout",
     "output_type": "stream",
     "text": [
      "['Чеченской', 'республике']\n",
      "['Донецкая', 'народная', 'республика']\n"
     ]
    }
   ],
   "source": [
    "from yargy import Parser, rule, and_\n",
    "from yargy.predicates import gram, is_capitalized, dictionary\n",
    "\n",
    "\n",
    "GEO = rule(\n",
    "    and_(\n",
    "        gram('ADJF'),  # так помечается прилагательное, остальные пометки описаны в\n",
    "                       # http://pymorphy2.readthedocs.io/en/latest/user/grammemes.html\n",
    "        is_capitalized()\n",
    "    ),\n",
    "    gram('ADJF').optional().repeatable(),\n",
    "    dictionary({\n",
    "        'федерация',\n",
    "        'республика'\n",
    "    })\n",
    ")\n",
    "\n",
    "\n",
    "parser = Parser(GEO)\n",
    "text = '''\n",
    "В Чеченской республике на день рождения ...\n",
    "Донецкая народная республика провозгласила ...\n",
    "Башня Федерация — одна из самых высоких ...\n",
    "'''\n",
    "for match in parser.findall(text):\n",
    "    print([_.value for _ in match.tokens])"
   ]
  },
  {
   "cell_type": "markdown",
   "metadata": {
    "ExecuteTime": {
     "end_time": "2020-02-12T13:13:57.167613Z",
     "start_time": "2020-02-12T13:13:57.159920Z"
    }
   },
   "source": [
    "### Предикаты\n",
    "\n",
    "Предикат — функция, которая принимает на вход токен и возвращает True или False. В Yargy встроено много готовых предикатов. Полный список есть в справочнике. Предикаты комбинируются с помощью and_, or_ и not_."
   ]
  },
  {
   "cell_type": "code",
   "execution_count": 11,
   "metadata": {
    "ExecuteTime": {
     "end_time": "2020-02-12T14:12:17.173350Z",
     "start_time": "2020-02-12T14:12:17.136108Z"
    }
   },
   "outputs": [
    {
     "name": "stdout",
     "output_type": "stream",
     "text": [
      "True\n",
      "True\n"
     ]
    }
   ],
   "source": [
    "from yargy import and_, not_\n",
    "from yargy.tokenizer import MorphTokenizer\n",
    "from yargy.predicates import is_capitalized, eq\n",
    "\n",
    "\n",
    "tokenizer = MorphTokenizer()\n",
    "token = next(tokenizer('Стали'))\n",
    "\n",
    "predicate = is_capitalized()\n",
    "print(predicate(token))\n",
    "\n",
    "predicate = and_(\n",
    "    is_capitalized(),\n",
    "    not_(eq('марки'))\n",
    ")\n",
    "print(predicate(token))"
   ]
  },
  {
   "cell_type": "markdown",
   "metadata": {
    "ExecuteTime": {
     "end_time": "2020-02-12T13:15:56.600763Z",
     "start_time": "2020-02-12T13:15:56.596609Z"
    }
   },
   "source": [
    "### Грамматики\n",
    "В Yargy используется специальный DSL для описания грамматик. Любую контекстно-свободную грамматику можно описать с помощью конструкций Питона. Например, есть примитивная грамматика для размеров одежды:\n",
    "\n",
    "KEY -> р. | размер\n",
    "\n",
    "VALUE -> S | M | L\n",
    "\n",
    "SIZE -> KEY VALUE\n",
    "\n"
   ]
  },
  {
   "cell_type": "code",
   "execution_count": 12,
   "metadata": {
    "ExecuteTime": {
     "end_time": "2020-02-12T14:14:21.602988Z",
     "start_time": "2020-02-12T14:14:21.589310Z"
    }
   },
   "outputs": [
    {
     "data": {
      "text/plain": [
       "SIZE -> KEY VALUE\n",
       "KEY -> 'р' '.' | 'размер'\n",
       "VALUE -> 'S' | 'M' | 'L' | 'XS'\n"
      ]
     },
     "execution_count": 12,
     "metadata": {},
     "output_type": "execute_result"
    }
   ],
   "source": [
    "from yargy import rule, or_\n",
    "\n",
    "\n",
    "KEY = or_(\n",
    "    rule('р', '.'),\n",
    "    rule('размер')\n",
    ").named('KEY')\n",
    "VALUE = or_(\n",
    "    rule('S'),\n",
    "    rule('M'),\n",
    "    rule('L'),\n",
    "    rule('XS'),\n",
    ").named('VALUE')\n",
    "SIZE = rule(\n",
    "    KEY,\n",
    "    VALUE\n",
    ").named('SIZE')\n",
    "SIZE.normalized.as_bnf"
   ]
  },
  {
   "cell_type": "code",
   "execution_count": 13,
   "metadata": {
    "ExecuteTime": {
     "end_time": "2020-02-12T14:14:27.723857Z",
     "start_time": "2020-02-12T14:14:27.662113Z"
    }
   },
   "outputs": [
    {
     "name": "stdout",
     "output_type": "stream",
     "text": [
      "['размер', 'M']\n",
      "['размер', 'XS']\n"
     ]
    }
   ],
   "source": [
    "parser = Parser(\n",
    "    SIZE\n",
    ")\n",
    "text = 'размер M; размер A; размер XS;'\n",
    "for match in parser.findall(text):\n",
    "    print([_.value for _ in match.tokens])"
   ]
  },
  {
   "cell_type": "code",
   "execution_count": 14,
   "metadata": {
    "ExecuteTime": {
     "end_time": "2020-02-12T14:12:19.308726Z",
     "start_time": "2020-02-12T14:12:17.354354Z"
    }
   },
   "outputs": [],
   "source": [
    "from yargy import Parser, rule, and_, or_, not_\n",
    "from yargy.interpretation import fact, attribute\n",
    "from yargy.predicates import gram, is_capitalized, dictionary, eq\n",
    "import re\n",
    "import pandas as pd\n",
    "from tqdm import tqdm_notebook\n",
    "from gensim import utils"
   ]
  },
  {
   "cell_type": "code",
   "execution_count": 15,
   "metadata": {
    "ExecuteTime": {
     "end_time": "2020-02-12T14:12:19.323139Z",
     "start_time": "2020-02-12T14:12:19.310769Z"
    }
   },
   "outputs": [],
   "source": [
    "\n",
    "START = rule(\n",
    "    or_(\n",
    "        rule(gram('ADJF')),\n",
    "        rule(gram('NOUN'))\n",
    "    ).optional(),\n",
    "    gram('NOUN')\n",
    ")\n",
    "\n",
    "START_S = or_(\n",
    "    eq('такой'),\n",
    "    eq('такие'),\n",
    ")\n",
    "\n",
    "KAK = eq('как')\n",
    "INCLUDING = or_(\n",
    "    or_(\n",
    "        eq('в'),\n",
    "        eq('том'),\n",
    "        eq('числе'),\n",
    "    ),\n",
    "    eq('включающий'),\n",
    "    or_(\n",
    "        eq('включающий'),\n",
    "        eq('в'),\n",
    "        eq('себя'),\n",
    "    ),\n",
    "    or_(\n",
    "        eq('включающие'),\n",
    "        eq('в'),\n",
    "        eq('себя'),\n",
    "    ),\n",
    "    eq('включающие'),\n",
    "    eq('особенно'),\n",
    "\n",
    ")\n",
    "\n",
    "MID_S = or_(\n",
    "    rule(\n",
    "        or_(\n",
    "            eq('такой'),\n",
    "            eq('такие'),\n",
    "        ),\n",
    "        eq('как')\n",
    "    )\n",
    ")\n",
    "ATAKJE = rule(\n",
    "    eq(','),\n",
    "    eq('а'),\n",
    "    eq('также')\n",
    ")\n",
    "\n",
    "MID = or_(\n",
    "    rule(\n",
    "        eq('это')\n",
    "    ),\n",
    "    rule(\n",
    "        eq('—')\n",
    "    ),\n",
    "    rule(\n",
    "        eq('—'),\n",
    "        eq('это')\n",
    "    ),\n",
    "    rule(\n",
    "        eq('—'),\n",
    "        not_(eq('км'))\n",
    "    ),\n",
    "    rule(\n",
    "        or_(\n",
    "            eq('и'),\n",
    "            eq('или'),\n",
    "        ),\n",
    "        eq('другие')\n",
    "    )\n",
    ")\n",
    "\n",
    "END = or_(\n",
    "    rule(\n",
    "        gram('NOUN'),\n",
    "        gram('NOUN')\n",
    "    ),\n",
    "    rule(\n",
    "        gram('ADJF').repeatable(),\n",
    "        gram('NOUN')\n",
    "    ),\n",
    "    rule(\n",
    "        gram('ADJF'),\n",
    "        gram('ADJF').repeatable(),\n",
    "        gram('NOUN')\n",
    "    ),\n",
    "    rule(\n",
    "        gram('NOUN').repeatable(),\n",
    "        gram('ADJF'),\n",
    "        gram('NOUN').repeatable()\n",
    "    ),\n",
    "    rule(\n",
    "        gram('NOUN').repeatable()\n",
    "    )\n",
    ")\n",
    "\n",
    "Item = fact(\n",
    "    'Item',\n",
    "    [attribute('titles').repeatable()]\n",
    ")\n",
    "\n",
    "\n",
    "IGNORE = rule(\n",
    "    '(',\n",
    "    not_(eq(')')).repeatable(),\n",
    "    ')'\n",
    ")\n",
    "\n",
    "ITEM = rule(\n",
    "    IGNORE.interpretation(\n",
    "        Item.titles\n",
    "    ),\n",
    "    eq(',').optional() \n",
    ").repeatable().interpretation(\n",
    "    Item\n",
    ")"
   ]
  },
  {
   "cell_type": "code",
   "execution_count": 16,
   "metadata": {
    "ExecuteTime": {
     "end_time": "2020-02-12T14:12:19.434702Z",
     "start_time": "2020-02-12T14:12:19.324707Z"
    }
   },
   "outputs": [],
   "source": [
    "def get_hyperonyms(main_word):\n",
    "    HYPONYM = eq(utils.deaccent(main_word))\n",
    "    RULE = or_(\n",
    "        rule(HYPONYM, ATAKJE, START, MID, END),\n",
    "        rule(HYPONYM, MID, END),\n",
    "        rule(START_S, END, KAK, HYPONYM),\n",
    "        rule(END, INCLUDING, HYPONYM)\n",
    "    )\n",
    "    parser = Parser(RULE) \n",
    "    text = utils.deaccent(wikipedia.summary(main_word))\n",
    "    print(text)\n",
    "    text = re.sub(r'\\(.+?\\)', '', text)\n",
    "    text = text.lower().replace('* сергии радонежскии* ', '')\n",
    "    for idx, match in enumerate(parser.findall(text.lower())):\n",
    "        k = [_.value for _ in match.tokens]\n",
    "        print(k)"
   ]
  },
  {
   "cell_type": "code",
   "execution_count": 17,
   "metadata": {
    "ExecuteTime": {
     "end_time": "2020-02-12T14:12:22.648500Z",
     "start_time": "2020-02-12T14:12:19.437840Z"
    }
   },
   "outputs": [
    {
     "name": "stdout",
     "output_type": "stream",
     "text": [
      "Банан — название съедобных плодов культивируемых растении рода Банан (Musa); обычно под таковыми понимают Musa acuminata и Musa × paradisiaca, а также Musa balbisiana, Musa fehi, Musa troglodytarum и ряд других. Также бананами могут называть плоды Ensete ventricosum (строго говоря, являющегося представителем другого рода семеиства Банановые). С ботаническои точки зрения банан является ягодои, многосеменнои и толстокожеи. У культурных форм часто отсутствуют семена, ненужные при вегетативном размножении. Плоды имеют длину 6—30 см и диаметр 2—5 см. Соплодия могут состоять из 300 плодов и иметь массу до 50—60 кг.\n",
      "Бананы — одна из древнеиших пищевых культур, а для тропических стран важнеишее пищевое растение и главная статья экспорта. Спелые бананы широко употребляются в пищу по всему миру, их используют при приготовлении большого количества блюд. Помимо употребления в свежем виде, в кухне некоторых народов бананы могут зажариваться, или вариться как в очищенном, так и в неочищенном виде. Их также сушат, консервируют, используют для приготовления банановои муки, мармелада, сиропов, вин. Бананы применяются также в качестве корма для скота. Запах бананов определяют изовалерианово-изоамиловыи и уксусно-изоамиловыи эфиры. Выращиваются в тропических и субтропических раионах с жарким влажным климатом. Существует большое число сортов съедобных видов банана.\n",
      "Размер, цвет и форма могут значительно различаться в зависимости от вида или сорта, но чаще всего они имеют продолговатую цилиндрическую или трехгранную форму, выпрямленную либо закругленную. Длина плода варьирует в пределах от 3 до 40 см, толщина — от 2 до 8 см. Цвет кожицы может быть желтым, зеленым, красным или даже серебристым. Мякоть белая, кремовая, желтая или оранжевая. В незрелом состоянии она твердая и клеикая, но по мере созревания становится мягкои и сочнои.\n",
      "Во многих странах бананы являются одним из основных источников питания — например, только в Эквадоре годовое потребление этого продукта составляет 73,8 кг на душу населения (для сравнения, в России этот показатель равен 7,29 кг). Существенную долю потребления бананы также составляют в Бурунди (189,4 кг), Самоа (85,0 кг), Коморских Островах (77,8 кг) и на Филиппинах (40,6 кг).\n",
      "['банан', '—', 'название', 'съедобных', 'плодов']\n"
     ]
    }
   ],
   "source": [
    "get_hyperonyms(\"банан\")"
   ]
  },
  {
   "cell_type": "markdown",
   "metadata": {},
   "source": [
    "#### Task 1 (deadline 19.02.2020 24:00)\n",
    "* Find your name on the spreadsheet https://docs.google.com/spreadsheets/d/1RR2I6toCkebbGU1UK83HS70Ru_l0_o-nnZIHyiFB0No/edit?usp=sharing. In opposite of your name there are 24 words of hyponyms, you have to insert five corresponding hypernyms next to them. Examples of hyponyms and hyperonyms relationship you can find above in the current Jupiter notebook.\n",
    "* Find for each pair of hyponyms and hypernyms a corresponding snippet of a text with their mentions. The source of the text can be any free resources, e.g., Wikipedia, Google, Yandex, others. You should save the snippets and their URLs within the lab2 folder in your NLP git-repo with .csv file-extension in a single file.\n",
    "\n",
    "#### Task 2 (deadline 26.02.2020 24:00)\n",
    "* It would be best if you created a pandas DataFrame of the texts from the previous task. And apply to the DataFrame the function 'get_hyperonyms,' which must return the list of the corresponding hypernyms from the text automatically. If there are errors or misses, you should fix them in the code for your case of the 24 words. Nevertheless, it is strictly prohibited to use hard coding. Save your notebook with parser code within the lab2 folder in your NLP git-repo."
   ]
  },
  {
   "cell_type": "code",
   "execution_count": null,
   "metadata": {},
   "outputs": [],
   "source": []
  },
  {
   "cell_type": "code",
   "execution_count": 20,
   "metadata": {},
   "outputs": [
    {
     "data": {
      "text/html": [
       "<div>\n",
       "<style scoped>\n",
       "    .dataframe tbody tr th:only-of-type {\n",
       "        vertical-align: middle;\n",
       "    }\n",
       "\n",
       "    .dataframe tbody tr th {\n",
       "        vertical-align: top;\n",
       "    }\n",
       "\n",
       "    .dataframe thead th {\n",
       "        text-align: right;\n",
       "    }\n",
       "</style>\n",
       "<table border=\"1\" class=\"dataframe\">\n",
       "  <thead>\n",
       "    <tr style=\"text-align: right;\">\n",
       "      <th></th>\n",
       "      <th>ОКАПЫВАНИЕ</th>\n",
       "    </tr>\n",
       "  </thead>\n",
       "  <tbody>\n",
       "    <tr>\n",
       "      <th>0</th>\n",
       "      <td>ОКИСЛИТЕЛЬ</td>\n",
       "    </tr>\n",
       "    <tr>\n",
       "      <th>1</th>\n",
       "      <td>ОКСЮМОРОН</td>\n",
       "    </tr>\n",
       "    <tr>\n",
       "      <th>2</th>\n",
       "      <td>ОКТЕТ</td>\n",
       "    </tr>\n",
       "    <tr>\n",
       "      <th>3</th>\n",
       "      <td>ОЛЕАНДР</td>\n",
       "    </tr>\n",
       "    <tr>\n",
       "      <th>4</th>\n",
       "      <td>ОМУЛЬ</td>\n",
       "    </tr>\n",
       "  </tbody>\n",
       "</table>\n",
       "</div>"
      ],
      "text/plain": [
       "   ОКАПЫВАНИЕ\n",
       "0  ОКИСЛИТЕЛЬ\n",
       "1   ОКСЮМОРОН\n",
       "2       ОКТЕТ\n",
       "3     ОЛЕАНДР\n",
       "4       ОМУЛЬ"
      ]
     },
     "execution_count": 20,
     "metadata": {},
     "output_type": "execute_result"
    }
   ],
   "source": [
    "homework_data = pd.read_excel('Hyperonyms_Aigerim.xlsx', sheet_name='Лист1')\n",
    "\n",
    "homework_data.head()"
   ]
  },
  {
   "cell_type": "code",
   "execution_count": 22,
   "metadata": {},
   "outputs": [
    {
     "name": "stdout",
     "output_type": "stream",
     "text": [
      "ОКАПЫВАНИЕ\n",
      "\n",
      "\n",
      "Шанцевыи инструмент (нем. Schanze «окоп, укрепление») — ручнои инструмент, предусмотренныи по штату в воинских подразделениях и предназначенныи для выполнения инженерных работ.\n",
      "В Русскои императорскои армии составлял часть снаряжения воиск и предназначался для работ по укреплению полевых позиции.\n",
      "В ВС России является инженерным вооружением, в соответствии с организационно-штатнои структурои формировании.\n",
      "\n",
      "\n",
      "\n",
      "ОКИСЛИТЕЛЬ\n",
      "\n",
      "\n",
      "Окислитель — вещество, в состав которого входят атомы, присоединяющие к себе во время химическои реакции электроны. Иными словами, окислитель — это акцептор электронов.\n",
      "В зависимости от поставленнои задачи (окисление в жидкои или в газообразнои фазе, окисление на поверхности) в качестве окислителя могут быть использованы самые разные вещества.\n",
      "\n",
      "Электрохимическое окисление позволяет окислять практически любые вещества на аноде, в растворах или в расплавах. Так, самыи сильныи неорганическии окислитель, элементарныи фтор, получают электролизом расплавов фторидов.\n",
      "\n",
      "\n",
      "\n",
      "ОКСЮМОРОН\n",
      "\n",
      "\n",
      "Оксюморон, оксиморон, а также оксюморoн, оксиморoн (др.-греч. οξυμωρον, букв. «остроумная глупость», от др.-греч. οξυς «острыи» + μωρος «глупыи») — до кажущеися нелепости заостренное выражение, образное сочетание противоречащих друг другу понятии; остроумное сопоставление противоречивых понятии, парадокс; стилистическая фигура или стилистическая ошибка — сочетание слов с противоположным значением (то есть сочетание несочетаемого).\n",
      "Для оксюморона характерно намеренное использование противоречия для создания стилистического эффекта. С психологическои точки зрения оксюморон представляет собои способ разрешения необъяснимои ситуации.\n",
      "\n",
      "\n",
      "\n",
      "ОКТЕТ\n",
      "\n",
      "\n",
      "Октет в информатике — восемь двоичных разрядов. В русском языке октет обычно называют баитом. Октет может принимать 256 возможных состоянии (кодов, значении, комбинации битов (нулеи и единиц)).\n",
      "\n",
      "\n",
      "\n",
      "ОЛЕАНДР\n",
      "\n",
      "\n",
      "Олеандр (лат. Nerium) — монотипныи род цветковых растении семеиства Кутровые (Apocynaceae). Единственныи вид — Олеандр обыкновенныи (Nerium oleander, в литературе для наименования этого вида нередко используют то же русское название, что и для рода Nerium, — «олеандр»), кустарник, широко распространенныи в субтропических регионах планеты.\n",
      "В качестве декоративного растения олеандр широко используется в ландшафтном дизаине в регионах с субтропическим климатом. Культивируется и как красивоцветущее комнатное растение.\n",
      "Олеандр — ядовитое растение, поэтому при его культивировании требуется осторожность. В соке олеандра содержится ряд сердечных гликозидов, некоторые из которых находят медицинское применение.\n",
      "\n",
      "\n",
      "\n",
      "ОМУЛЬ\n",
      "\n",
      "\n",
      "Омуль или арктическии омуль (лат. Coregonus autumnalis) — промысловая рыба рода сигов семеиства лососевых. Длина до 64 см, весит до 3 кг.\n",
      "Омуль — проходная рыба, она нагуливается в прибрежных частях Северного Ледовитого океана и поднимается на нерест в реки России, Аляски и Канады. В море питается крупными придонными ракообразными, молодью рыб и мелким зоопланктоном.\n",
      "Баикальскии омуль, традиционно рассматривавшиися как подвид арктического омуля Coregonus autumnalis migratorius, согласно генетическим исследованиям близок обыкновенному и сельдевидному сигам и выделен в отдельныи вид Coregonus migratorius.\n",
      "\n",
      "\n",
      "\n",
      "ОПЛАВЛЕНИЕ\n",
      "\n",
      "\n",
      "Сварка — процесс получения неразъемных соединении посредством установления межатомных связеи между свариваемыми частями при их местном или общем нагреве, пластическом деформировании или совместном деиствии того и другого. Специалист занимающиися сварными работами называется сварщик.\n",
      "\n",
      "\n",
      "\n",
      "ОПОКА\n",
      "\n",
      "\n",
      "Опока (порода)  (польск.) — кремнистая микропористая осадочная порода. В старои советскои литературе называлась кремнистои глинои и кремнистым мергелем.\n",
      "\n",
      "\n",
      "\n",
      "ОПРЕДЕЛИТЕЛЬ\n",
      "\n",
      "\n",
      "В линеинои алгебре определитель (или детерминант) — это скалярная величина, которая может быть вычислена и поставлена в однозначное соответствие любои квадратнои матрице. Определитель матрицы А обозначается как \n",
      "  \n",
      "    \n",
      "      \n",
      "        det\n",
      "        (\n",
      "        A\n",
      "        )\n",
      "      \n",
      "    \n",
      "    {\\displaystyle \\det(A)}\n",
      "  , \n",
      "  \n",
      "    \n",
      "      \n",
      "        \n",
      "          |\n",
      "        \n",
      "        A\n",
      "        \n",
      "          |\n",
      "        \n",
      "      \n",
      "    \n",
      "    {\\displaystyle |A|}\n",
      "   или \n",
      "  \n",
      "    \n",
      "      \n",
      "        Δ\n",
      "        (\n",
      "        A\n",
      "        )\n",
      "      \n",
      "    \n",
      "    {\\displaystyle \\Delta (A)}\n",
      "  .\n",
      "Определитель квадратнои матрицы \n",
      "  \n",
      "    \n",
      "      \n",
      "        A\n",
      "      \n",
      "    \n",
      "    {\\displaystyle A}\n",
      "   размеров \n",
      "  \n",
      "    \n",
      "      \n",
      "        n\n",
      "        ×\n",
      "        n\n",
      "      \n",
      "    \n",
      "    {\\displaystyle n\\times n}\n",
      "  , заданнои над коммутативным кольцом \n",
      "  \n",
      "    \n",
      "      \n",
      "        R\n",
      "      \n",
      "    \n",
      "    {\\displaystyle R}\n",
      "  , является элементом кольца \n",
      "  \n",
      "    \n",
      "      \n",
      "        R\n",
      "      \n",
      "    \n",
      "    {\\displaystyle R}\n",
      "  , вычисляемым по формуле, приведеннои ниже.\n",
      "Он «определяет» своиства матрицы \n",
      "  \n",
      "    \n",
      "      \n",
      "        A\n",
      "      \n",
      "    \n",
      "    {\\displaystyle A}\n",
      "  . В частности, матрица \n",
      "  \n",
      "    \n",
      "      \n",
      "        A\n",
      "      \n",
      "    \n",
      "    {\\displaystyle A}\n",
      "   обратима тогда и только тогда, когда ее определитель является обратимым элементом кольца \n",
      "  \n",
      "    \n",
      "      \n",
      "        R\n",
      "      \n",
      "    \n",
      "    {\\displaystyle R}\n",
      "  .\n",
      "В случае, когда \n",
      "  \n",
      "    \n",
      "      \n",
      "        R\n",
      "      \n",
      "    \n",
      "    {\\displaystyle R}\n",
      "   — поле, определитель матрицы \n",
      "  \n",
      "    \n",
      "      \n",
      "        A\n",
      "      \n",
      "    \n",
      "    {\\displaystyle A}\n",
      "   равен нулю тогда и только тогда, когда ранг матрицы \n",
      "  \n",
      "    \n",
      "      \n",
      "        A\n",
      "      \n",
      "    \n",
      "    {\\displaystyle A}\n",
      "   меньше \n",
      "  \n",
      "    \n",
      "      \n",
      "        n\n",
      "      \n",
      "    \n",
      "    {\\displaystyle n}\n",
      "   или когда системы строк и столбцов матрицы \n",
      "  \n",
      "    \n",
      "      \n",
      "        A\n",
      "      \n",
      "    \n",
      "    {\\displaystyle A}\n",
      "   являются линеино зависимыми.\n",
      "\n",
      "\n",
      "\n",
      "ОПРЕЛОСТЬ\n",
      "\n",
      "\n",
      "Опрелость — воспалительное заболевание, поражение бактериями, грибками или вирусами складок кожи, развивающееся в результате раздражающего и длительного увлажняющего влияния продуктов кожнои секреции (кожного сала, пота), а также трения соприкасающихся поверхностеи кожи.\n",
      "\n",
      "\n",
      "\n",
      "ОПРИХОДОВАНИЕ\n",
      "\n",
      "\n",
      "Товарно-транспортная накладная (ТТН) предназначена для учета движения товарно-материальных ценностеи (ТМЦ) при их перемещении с участием транспортных средств и является основанием для списания ТМЦ у грузоотправителя и оприходования их у грузополучателя. Как правило, оформляется грузоотправителем. Однако по согласованию сторон документ может составляться и перевозчиком.\n",
      "Некоторые организации используют ТТН для списания/оприходования товарно-материальных ценностеи (вместо товарнои накладнои ТОРГ-12).\n",
      "Товарно-транспортная накладная — документ, сопровождающии груз, предназначенныи для учета движения товарно-материальных ценностеи и расчетов за их перевозки автомобильным транспортом. Состоит из двух разделов:\n",
      "\n",
      "Товарного, определяющего взаимоотношения грузоотправителеи и грузополучателеи и служащего для списания товарно-материальных ценностеи у грузоотправителеи и оприходования их у грузополучателеи;Транспортного, определяющего взаимоотношения грузоотправителеи заказчиков автотранспорта с организациями-владельцами автотранспорта, выполнившими перевозку грузов и служащего для учета транспортнои работы и расчетов грузоотправителеи или грузополучателеи с организациями-владельцами автотранспорта за оказанные им услуги по перевозке грузов.Товарно-транспортная накладная выписывается в нескольких экземплярах, количество зависит от формы накладнои.\n",
      "\n",
      "первыи - остается у грузоотправителя и предназначается для списания товарно-материальных ценностеи;\n",
      "второи - предназначается для оприходования товарно-материальных ценностеи у получателя груза (сдается водителем грузополучателю);\n",
      "третии (передается организации-владельцу автотранспорта) - служит основанием для расчетов, организация-владелец автотранспорта прилагает его к счету за перевозку и высылает плательщику-заказчику автотранспорта;\n",
      "четвертыи (передается организации-владельцу автотранспорта) - прилагается к путевому листу и служит основанием для учета транспортнои работы и начисления заработнои платы водителю.Транспортная накладная - перевозочныи документ, подтверждающии заключение договора перевозки груза.\n",
      "Транспортная накладная составляется на одну или несколько партии груза, перевозимую на одном транспортном средстве, в 3 экземплярах (оригиналах) соответственно для грузоотправителя, грузополучателя и перевозчика. Транспортная накладная подписывается грузоотправителем и перевозчиком.\n",
      "\n",
      "\n",
      "\n",
      "ОПТИК\n",
      "\n",
      "\n",
      "Оптика (от др.-греч. οπτικη «наука о зрительных восприятиях») — раздел физики, рассматривающии явления, связанные с распространением электромагнитных волн видимого, инфракрасного и ультрафиолетового диапазонов спектра. Оптика описывает своиства света и объясняет связанные с ним явления. Методы оптики используются во многих прикладных дисциплинах, включая электротехнику, физику, медицину (в частности, офтальмологию и рентгенологию). В этих, а также в междисциплинарных сферах широко применяются достижения прикладнои оптики.\n",
      "\n",
      "Вместе с точнои механикои оптика является основои оптико-механическои промышленности.\n",
      "\n",
      "\n",
      "\n",
      "\n",
      "\n",
      "ОПТОМЕТРИСТ\n",
      "\n",
      "\n",
      "Оптометрия (от греч. οψις — «зрение» и μετρον — «мера», «измерение») — медицинская специальность, имеющая отношение к глазам и связанным с ними системам, таким как зрение, зрительные системы и зрительное восприятие человека.\n",
      "Как и для большинства медицинских специальностеи, образование, сертификация и практика оптометрии регулируются во многих странах. Чтобы осуществлять медицинское наблюдение глаз и зрения, оптометристы и связанные с ними организации взаимодеиствуют с правительственными учреждениями, другими медицинскими специалистами и обществом. Оптометрия — одна из двух специальностеи, связанных с медицинским наблюдением глаз, наряду с офтальмологиеи, являющеися отраслью медицины.\n",
      "\n",
      "\n",
      "\n",
      "ОПЦИОН\n",
      "\n",
      "\n",
      "Опцион (лат. optio — выбор, желание, усмотрение) — договор, по которому покупатель опциона (потенциальныи покупатель или потенциальныи продавец базового актива — товара, ценнои бумаги) получает право, но не обязательство, совершить покупку или продажу данного актива по заранее оговореннои цене или по нефиксированнои цене, но вычисляемои по заранее оговореннои формуле, в определенныи договором момент в будущем или на протяжении определенного отрезка времени при условии наступления оговоренного события или без такового; количество платежеи и периодичность тоже могут устанавливаться условиями договора. При этом продавец опциона несет обязательство соответственно продать актив или купить его у покупателя опциона в соответствии с его условиями. Изначальное приобретение опциона зачастую также платно; таким образом, в случае реализации опциона покупатель в итоге оплачивает две составные части комплекснои сделки. С другои стороны, реализация опциона в некоторых случаях бывает безвозмезднои, например: бонусные опционы на разницу в цене на акции компании для ее работников, бинарные опционы.\n",
      "Опцион — это один из производных финансовых инструментов. Различают опционы на продажу (put option), на покупку (call option) и двусторонние (double option).\n",
      "Опционы и фьючерсы во многом сходные финансовые инструменты, но имеют некоторые принципиальные отличия. При сделке с фьючерсом покупатель обязан приобрести (или продать) актив по истечении договора, тогда как при опционе он может от этого отказаться.\n",
      "\n",
      "\n",
      "\n",
      "ОРАНГУТАНГ\n",
      "\n",
      "\n",
      "Орангутаны (малаиск. orang utan — «леснои человек», лат. Pongo) — род древесных человекообразных обезьян, один из наиболее близких к человеку по гомологии ДНК. В разговорном русском языке равнозначным является вариант названия «орангутанг», в зоологии употребляется только первыи вариант.\n",
      "Орангутан — единственныи современныи род в подсемеистве Понгины, к вымершим родам которого относятся гигантопитеки (Gigantopithecus) и сивапитеки (Sivapithecus). Ранее орангутаны обитали по всеи Юго-Восточнои Азии, а в наши дни только на Борнео и Суматре.По некоторым данным орангутан считается самым умным животным после человека.\n",
      "\n",
      "\n",
      "\n",
      "ОРГОТДЕЛ\n",
      "\n",
      "\n",
      "Организационныи отдел Центрального комитета Коммунистическои партии Китая (кит. трад. 中共中央組織部, упр. 中共中央组织部, пиньинь: Zhonggong Zhongyang Zuzhibu; сокр. кит. упр. 中组部, пиньинь: Zhongzubu) — структурное подразделение Секретариата Центрального комитета Коммунистическои партии Китая, ответственное за решение кадровых вопросов в органах КПК. Организационныи отдел обеспечивает кадровую политику внутри страны и имеет полномочия координировать решение кадровых вопросов также и на провинциальном и муниципальном уровнях.\n",
      "Заведующие отделом:\n",
      "\n",
      "1984—1985 — Цяо Ши\n",
      "1985—1987 — Вэи Цзяньсин\n",
      "1987—1989 — Сун Пин\n",
      "1989—1994 — Лю Фэн\n",
      "1994—1999 — Чжан Цюаньцзин\n",
      "1999—2002 — Цзэн Цинхун\n",
      "2002—2007 — Хэ Гоцян\n",
      "2007—2012 — Ли Юаньчао\n",
      "с 2012 — Чжао ЛэцзиЗаведующие Орготделом ЦК КПК последние годы состоят (с 2002) членами Политбюро и (с 1999) Секретариата ЦК.\n",
      "\n",
      "\n",
      "\n",
      "ОРДИНАРЕЦ\n",
      "\n",
      "\n",
      "Ординарец (от нем. Ordonnanz, фр. ordonnance «вестовои» от лат. ordino «привожу в порядок; назначаю; управляю») в русскои армии — военнослужащии офицер или рядовои, назначавшиися к воисковому штабу, к командиру или к почетному лицу для выполнения их поручении, главным образом, для связи и передачи приказании. В Советских Вооруженных Силах во время Великои Отечественнои воины 1941—1945 ординарцы-солдаты выделялись в распоряжение командного состава.\n",
      "\n",
      "\n",
      "\n",
      "ОРИГАМИ\n",
      "\n",
      "\n",
      "Оригами (яп. 折り紙, букв.: «сложенная бумага») —  вид декоративно-прикладного искусства; древнее искусство складывания фигурок из бумаги.\n",
      "Искусство оригами своими корнями уходит в Древнии Китаи, где и была изобретена бумага. Первоначально оригами использовалось в религиозных обрядах. Долгое время этот вид искусства был доступен только представителям высших сословии, где признаком хорошего тона было владение техникои складывания из бумаги.\n",
      "Классическое оригами складывается из квадратного листа бумаги.\n",
      "Существует определенныи набор условных знаков, необходимых для того, чтобы зарисовать схему складывания даже самого сложного изделия. Большая часть условных знаков была введена в практику в 1954 г. известным японским мастером Акирои Есидзавои (1911—2005).\n",
      "Классическое оригами предписывает использование одного листа бумаги без применения ножниц. При этом часто для шеипинга (shaping) сложнои модели, то есть придания еи формы, или для ее консервации используется пропитка исходного листа клеевыми составами, содержащими метилцеллюлозу.\n",
      "\n",
      "\n",
      "\n",
      "ОРНИТОЗ\n",
      "\n",
      "\n",
      "Орнитоз, пситтакоз (от лат. psittacus — «попугаи»), попугаиная болезнь — острое инфекционное заболевание, характеризуется лихорадкои, общеи интоксикациеи, поражением легких, центральнои нервнои системы, увеличением печени и селезенки.\n",
      "Возбудителем заболевания является бактерия Chlamydophila psittaci из числа хламидии, в организме человека развивается внутриклеточно, во внешнеи среде сохраняется до 2–3 недель.\n",
      "Резервуаром возбудителя и источником заражения являются домашние и дикие птицы. Наибольшее эпидемиологическое значение имеют домашние птицы — особенно утки и индюшки; комнатные птицы — попугаи, волнистые попугаичики, канареики; городские голуби.\n",
      "Наиболее подвержены заболеванию лица, постоянно контактирующие с птицами: работники птицефабрик, мясокомбинатов, фермеры и др. При бытовом инфицировании в основном наблюдаются единичные заболевания, но могут быть и семеиные вспышки (чаще через 1-2 недели после приобретения инфицированных птиц). Заболевание чаще встречается в холодное время года.\n",
      "Заражение в большинстве случаев происходит аэрогенным (воздушно-пылевым) путем — при вдыхании пыли, содержащеи хламидии (высохшие частички испражнении птиц, а также выделения из клюва, загрязненные частицы пуха). Больные орнитозом опасности для окружающих не представляют.\n",
      "Инфекция проникает в организм через слизистую оболочку дыхательных путеи. Возбудитель внедряется в мелкие бронхи и бронхиолы, самые мелкие пылевые частицы могут достигать альвеол, вызывая воспалительныи процесс. Затем хламидии проникают в клетку, где и начинается их размножение. Очень быстро хламидии проникают в кровь, вызывая симптомы общеи интоксикации и поражение различных органов — печени, селезенки, нервнои системы, надпочечников. Интоксикация обусловлена токсическим влиянием самого возбудителя и вырабатываемого им токсина.\n",
      "Реже воротами инфекции служит слизистая оболочка пищеварительного тракта — тонкого кишечника. В этом случае возбудитель также попадает в кровь, вызывая интоксикацию и поражая ряд органов и систем, но пневмонии при этом не бывает.\n",
      "Иммунитет после перенесеннои острои инфекции кратковременныи и нестоикии, могут быть случаи повторных заболевании.\n",
      "\n",
      "\n",
      "\n",
      "ОРТОДОНТИЯ\n",
      "\n",
      "\n",
      "Ортодонтия (греч. ορθος «прямои; правильныи» + οδοντι «зуб») — прямои, правильныи и οδοντι — зуб) — раздел стоматологии, занимающиися изучением этиологии, диагностики, методов профилактики и лечения зубо-челюстных аномалии. Преимущественным объектом вмешательств в ортодонтии является жевательно-речевои аппарат детеи и подростков. Однако следует отметить, что у детеи поле деятельности ортодонтологии выходит за пределы лицевого скелета и непосредственно полости рта. Предметом рассмотрения ортодонтии являются нарушения, возникающие в процессе формирования жевательно-речевого аппарата. Ортодонтия не занимается деформациями, то есть повреждениями, возникшими в результате травмы или болезни, корректируя только аномалии развития, например, генетически обусловленные дефекты. Коррекциеи деформации занимается ортопедическая стоматология.Взрослая ортодонтия занимается деформациями, возникшими в результате потери зубов, возрастных изменении и заболевании пародонта. Современная стоматология часто не может оказать квалифицированную помощь без ортодонтическои подготовки.\n",
      "\n",
      "\n",
      "\n",
      "ОСЕЛОК\n",
      "\n",
      "\n",
      "Оселок (шлифовальныи брусок, водныи камень) — брусок из мелкозернистого абразивного материала, применяемыи для доводки вручную поверхностеи и режущих кромок инструментов (резцов, пил, ножниц, бритв, ножеи, кос и тому подобного) после заточки.\n",
      "Для оселка пригодны многие породы, содержащие мелкие зерна кварца, не слишком плотно соединенные каким-либо цементом. Когда лезвие инструмента трут о поверхность оселка, его приходится смачивать маслом (иногда водои), иначе частицы металла пристают к камню, он начинает «лосниться» и больше не «берет».\n",
      "Подобные устроиства использовались людьми с давних времен, археологические находки свидетельствуют о том, что оселки были широко распространены в самых разных культурах бронзового века и не вышли из употребления до сих пор.\n",
      "\n",
      "\n",
      "\n",
      "ОСЕМЕНЕНИЕ\n",
      "\n",
      "\n",
      "Искусственное осеменение — введение спермы животного в половые пути самки искусственным методом, при котором сперму у самца получают заблаговременно. Используется в животноводстве для получения большого количества потомства от ценных племенных самцов. Преимуществом перед естественным спариванием является возможность транспортировки спермы (в замороженном виде) на большие расстояния и осеменение самок животных в удаленных хозяиствах, более эффективное использование спермы (разделение эякулята на несколько порции), преодоление отказа животных от спаривания (часто используется в зоопарках для получения потомства у редких и исчезающих видов животных).\n",
      "Искусственное введение спермы человека в половые пути женщины в медицинских целях в русском языке обозначается термином искусственная или внутриматочная инсеминация.\n",
      "\n",
      "\n",
      "\n",
      "ОСИПЛОСТЬ\n",
      "\n",
      "\n",
      "Парагрипп (англ. parainfluenza) — антропонозная острая респираторная вирусная инфекция. Характеризуется умеренно выраженнои общеи интоксикациеи и поражением верхних дыхательных путеи, преимущественно гортани; механизм передачи возбудителя — аэрогенныи. Путь передачи — воздушно-капельныи.\n",
      "\n",
      "\n",
      "\n",
      "ОСМИЙ\n",
      "\n",
      "\n",
      "Осмии (лат. Osmium) — химическии элемент с атомным номером 76 в Периодическои системе химических элементов Д. И. Менделеева, обозначается символом Os. При стандартных условиях представляет собои блестящии серебристо-белыи с голубоватым отливом металл. Переходныи металл, относится к платиновым металлам. Наряду с иридием обладает наибольшеи плотностью среди всех простых веществ. Согласно теоретическим расчетам, его плотность даже выше, чем у иридия.\n",
      "\n",
      "\n",
      "\n"
     ]
    }
   ],
   "source": [
    "print('ОКАПЫВАНИЕ')\n",
    "print('\\n')\n",
    "get_hyperonyms('ОКАПЫВАНИЕ')\n",
    "print('\\n\\n')\n",
    "for word in list(homework_data['ОКАПЫВАНИЕ']):\n",
    "    print(word)\n",
    "    print('\\n')\n",
    "    get_hyperonyms(word)\n",
    "    print('\\n\\n')"
   ]
  },
  {
   "cell_type": "code",
   "execution_count": null,
   "metadata": {},
   "outputs": [],
   "source": []
  }
 ],
 "metadata": {
  "kernelspec": {
   "display_name": "Python 3",
   "language": "python",
   "name": "python3"
  },
  "language_info": {
   "codemirror_mode": {
    "name": "ipython",
    "version": 3
   },
   "file_extension": ".py",
   "mimetype": "text/x-python",
   "name": "python",
   "nbconvert_exporter": "python",
   "pygments_lexer": "ipython3",
   "version": "3.7.2"
  }
 },
 "nbformat": 4,
 "nbformat_minor": 2
}
